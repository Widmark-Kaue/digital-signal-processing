{
 "cells": [
  {
   "cell_type": "code",
   "execution_count": 63,
   "metadata": {},
   "outputs": [],
   "source": [
    "import numpy as np\n",
    "import control.matlab as m\n",
    "import matplotlib.pyplot as plt\n",
    "\n",
    "from pathlib import Path\n",
    "\n",
    "PATH_IMAGES = Path('images')\n"
   ]
  },
  {
   "cell_type": "markdown",
   "metadata": {},
   "source": [
    "# Dados de Entrada"
   ]
  },
  {
   "cell_type": "code",
   "execution_count": 64,
   "metadata": {},
   "outputs": [],
   "source": [
    "fpass   = 2772    #[Hz] \n",
    "fstop   = 2272    #[Hz]\n",
    "apass   = -3      #[dB]\n",
    "astop   = -18     #[dB]"
   ]
  },
  {
   "cell_type": "markdown",
   "metadata": {},
   "source": [
    "# Funções úteis"
   ]
  },
  {
   "cell_type": "code",
   "execution_count": 65,
   "metadata": {},
   "outputs": [],
   "source": [
    "def epsf(a:float)->float:\n",
    "    return np.sqrt(10**(-0.1*a) -1)\n",
    "\n",
    "'''\n",
    "FILTRO DE BUTTERWORTH\n",
    "'''\n",
    "def thetam (n:int)->np.ndarray:\n",
    "    aux     = 0 if n%2 == 0 else 1\n",
    "    mfinal  = (n-aux)/2 - 1\n",
    "    m       = np.arange(0, mfinal+1)\n",
    "    \n",
    "    return np.pi*(2*m + n + 1)/(2*n)\n",
    "\n",
    "def FTb(n:int, R:float, w0:float = 1, PB:bool = True, BW:float = None)-> m.TransferFunction:\n",
    "        print(10*'-'+'BUTTERWORTH FILTER'+10*'-')\n",
    "        if n > 4:\n",
    "            print(f'--> Filtro reduzido de {n}th para 4th ordem')\n",
    "            n = 4\n",
    "        sigma_m = R*np.cos(thetam(n))\n",
    "        omega_m = R*np.sin(thetam(n))\n",
    "        exp     = 0 if n%2 == 0 else 1\n",
    "        \n",
    "\n",
    "\n",
    "        s  = m.tf('s')\n",
    "        # if BW == None:\n",
    "        #     S = (s/w0)**(1 if PB else -1)\n",
    "        # else:\n",
    "        #     S = ( (s**2 + w0**2)/BW )**(1 if PB else -1)\n",
    "        \n",
    "        B1 = -2*sigma_m\n",
    "        B2 = sigma_m**2 + omega_m**2\n",
    "\n",
    "        aux = np.array([1])\n",
    "        for i in range(len(sigma_m)):\n",
    "            a   = np.array([1, B1[i], B2[i]])\n",
    "            aux = np.polymul(aux,a)\n",
    "        \n",
    "        H = lambda S=s: R**(exp)*np.prod(B2)/((S+R)**exp)/sum([S**j *aux[j] for j in range(len(aux))])\n",
    "\n",
    "        # Prints\n",
    "        print('\\n--> Alocação dos Polos:')\n",
    "        print(f'theta_m\\t= {np.round(thetam(n),3)} [rad]')\n",
    "        print(f'sigma_m\\t= {np.round(sigma_m,3)}')\n",
    "        print(f'omega_m\\t= {np.round(omega_m,3)} [rad/s]') \n",
    "        if not n%2 == 0:\n",
    "            print(f'sigma_r\\t= {-R}')\n",
    "        \n",
    "        print(f'\\n--> Função de transferência {\"normalizada\" if w0 == 1 else \"\"}:')\n",
    "        print(f'B1m\\t= {np.round(B1,3)}')\n",
    "        print(f'B2m\\t= {np.round(B2,3)}')\n",
    "        print(f'Hb\\t= {H(s)}')\n",
    "        return H\n",
    "        \n",
    "\n"
   ]
  },
  {
   "cell_type": "markdown",
   "metadata": {},
   "source": [
    "# 1. Filtro de Butterworth\n",
    "\n",
    "### 1.1 Filtro passa-baixa normalizado"
   ]
  },
  {
   "cell_type": "code",
   "execution_count": 66,
   "metadata": {},
   "outputs": [
    {
     "name": "stdout",
     "output_type": "stream",
     "text": [
      "omegarH\t= 1.22\n",
      "omega0\t= 17416.99 [rad/s]\n",
      "epsilon\t= 0.998\n",
      "nb\t= 5.195 (6th order)\n",
      "\n",
      "----------BUTTERWORTH FILTER----------\n",
      "--> Filtro reduzido de 6th para 4th ordem\n",
      "\n",
      "--> Alocação dos Polos:\n",
      "theta_m\t= [1.963 2.749] [rad]\n",
      "sigma_m\t= [-0.383 -0.924]\n",
      "omega_m\t= [0.924 0.383] [rad/s]\n",
      "\n",
      "--> Função de transferência normalizada:\n",
      "B1m\t= [0.766 1.848]\n",
      "B2m\t= [1.001 1.001]\n",
      "Hb\t= \n",
      "                     1.002\n",
      "-----------------------------------------------\n",
      "1.002 s^4 + 2.616 s^3 + 3.417 s^2 + 2.614 s + 1\n",
      "\n"
     ]
    }
   ],
   "source": [
    "# parâmetros do filtro\n",
    "omegarH = fpass/fstop\n",
    "\n",
    "# fator de ajuste\n",
    "eps = epsf(apass)\n",
    "\n",
    "# ordem do filtro\n",
    "nb  = np.log10(epsf(astop)/epsf(apass))/(2*np.log10(omegarH))\n",
    "n   =  round(nb)+1 if not nb%1 == 0 else nb\n",
    "\n",
    "# alocação dos polos\n",
    "R = eps**(-1/n)\n",
    "\n",
    "print(f'omegarH\\t= {round(omegarH,3)}')\n",
    "print(f'omega0\\t= {round(omega0,3)} [rad/s]')\n",
    "print(f'epsilon\\t= {round(eps,3)}')\n",
    "print(f'nb\\t= {round(nb,3)} ({n}th order)\\n')\n",
    "\n",
    "# função de transferência\n",
    "H = FTb(n,R)\n"
   ]
  },
  {
   "cell_type": "markdown",
   "metadata": {},
   "source": [
    "### 1.2 Conversão para o filtro passa-altas"
   ]
  },
  {
   "cell_type": "code",
   "execution_count": 67,
   "metadata": {},
   "outputs": [
    {
     "name": "stdout",
     "output_type": "stream",
     "text": [
      "----------BUTTERWORTH FILTER----------\n",
      "--> Filtro reduzido de 6th para 4th ordem\n",
      "\n",
      "--> Alocação dos Polos:\n",
      "theta_m\t= [1.963 2.749] [rad]\n",
      "sigma_m\t= [-0.383 -0.924]\n",
      "omega_m\t= [0.924 0.383] [rad/s]\n",
      "\n",
      "--> Função de transferência :\n",
      "B1m\t= [0.766 1.848]\n",
      "B2m\t= [1.001 1.001]\n",
      "Hb\t= \n",
      "                     1.002\n",
      "-----------------------------------------------\n",
      "1.002 s^4 + 2.616 s^3 + 3.417 s^2 + 2.614 s + 1\n",
      "\n"
     ]
    }
   ],
   "source": [
    "# parâmetros so filtro\n",
    "omega0  = 2*np.pi*fpass\n",
    "\n",
    "# Função de transferência\n",
    "Hpa = FTb(n, R, w0 = omega0, PB = False)\n",
    "\n"
   ]
  }
 ],
 "metadata": {
  "kernelspec": {
   "display_name": "Python 3.8.10 64-bit",
   "language": "python",
   "name": "python3"
  },
  "language_info": {
   "codemirror_mode": {
    "name": "ipython",
    "version": 3
   },
   "file_extension": ".py",
   "mimetype": "text/x-python",
   "name": "python",
   "nbconvert_exporter": "python",
   "pygments_lexer": "ipython3",
   "version": "3.8.10"
  },
  "orig_nbformat": 4,
  "vscode": {
   "interpreter": {
    "hash": "916dbcbb3f70747c44a77c7bcd40155683ae19c65e1c03b4aa3499c5328201f1"
   }
  }
 },
 "nbformat": 4,
 "nbformat_minor": 2
}
