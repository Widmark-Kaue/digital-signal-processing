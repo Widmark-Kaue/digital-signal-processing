{
 "cells": [
  {
   "cell_type": "code",
   "execution_count": 3,
   "metadata": {},
   "outputs": [],
   "source": [
    "import numpy as np\n",
    "import control.matlab as m\n",
    "import matplotlib.pyplot as plt\n",
    "\n",
    "from pathlib import Path\n",
    "\n",
    "PATH_IMAGES = Path('images')\n"
   ]
  },
  {
   "cell_type": "markdown",
   "metadata": {},
   "source": [
    "# Dados de Entrada"
   ]
  },
  {
   "cell_type": "code",
   "execution_count": 4,
   "metadata": {},
   "outputs": [],
   "source": [
    "fpass   = 2772    #[Hz] \n",
    "fstop   = 2272    #[Hz]\n",
    "apass   = -3      #[dB]\n",
    "astop   = -18     #[dB]\n",
    "omegarH = fpass/fstop\n",
    "omega0  = 2*np.pi*fpass"
   ]
  },
  {
   "cell_type": "markdown",
   "metadata": {},
   "source": [
    "# Funções úteis"
   ]
  },
  {
   "cell_type": "code",
   "execution_count": 5,
   "metadata": {},
   "outputs": [],
   "source": [
    "def thetam (n:int)->np.ndarray:\n",
    "    aux     = 0 if n%2 == 0 else 1\n",
    "    mfinal  = (n-aux)/2 - 1\n",
    "    m       = np.arange(0, mfinal+1)\n",
    "    \n",
    "    return np.pi*(2*m + n + 1)/(2*n)\n",
    "\n",
    "def Hb(n:int, R:float, w0:float = 1)-> m.TransferFunction:\n",
    "        sigma_m = R*np.cos(thetam(n))\n",
    "        omega_m = R*np.sin(thetam(n))\n",
    "        exp     = 0 if n%2 == 0 else 1\n",
    "        \n",
    "        S   = m.tf('s')\n",
    "        B1 = -2*sigma_m\n",
    "        B2 = sigma_m**2 + omega_m**2\n",
    "\n",
    "        H = R**(exp)*np.prod(B2)/((S+R)**exp)\n",
    "        for i in range(len(sigma_m)):\n",
    "            H*=1/(S**2 + B1[i]*S + B2[i])\n",
    "    \n",
    "        print(f'Hb = {H}')\n",
    "        return H\n",
    "        \n",
    "\n",
    "epsf = lambda a: np.sqrt(10**(-0.1*a) -1)\n"
   ]
  },
  {
   "cell_type": "markdown",
   "metadata": {},
   "source": [
    "# 1. Filtro de Butterworth\n",
    "\n",
    "### 1.1 Filtro passa-baixa normalizado"
   ]
  },
  {
   "cell_type": "code",
   "execution_count": 6,
   "metadata": {},
   "outputs": [
    {
     "name": "stdout",
     "output_type": "stream",
     "text": [
      "epsilon\t= 0.998\n",
      "nb\t= 5.195 (6th order)\n",
      "sigma_m\t= [-0.25892149 -0.70738667 -0.96630816]\n",
      "omega_m\t= [0.96630816 0.70738667 0.25892149] [rad/s]\n",
      "sigma_r\t= -1.0003958236036716\n",
      "Hb = \n",
      "                               1.002\n",
      "--------------------------------------------------------------------\n",
      "s^6 + 3.865 s^5 + 7.47 s^4 + 9.152 s^3 + 7.476 s^2 + 3.871 s + 1.002\n",
      "\n"
     ]
    }
   ],
   "source": [
    "\n",
    "\n",
    "# fator de ajuste\n",
    "eps = epsf(apass)\n",
    "\n",
    "# ordem do filtro\n",
    "nb  = np.log10(epsf(astop)/epsf(apass))/(2*np.log10(omegarH))\n",
    "n   =  round(nb)+1 if not nb%1 == 0 else nb\n",
    "\n",
    "# alocação dos polos\n",
    "R = eps**(-1/n)\n",
    "sigma_m = R*np.cos(thetam(n))\n",
    "omega_m = R*np.sin(thetam(n))\n",
    "\n",
    "print(f'epsilon\\t= {round(eps,3)}')\n",
    "print(f'nb\\t= {round(nb,3)} ({n}th order)')\n",
    "print(f'sigma_m\\t= {sigma_m}')\n",
    "print(f'omega_m\\t= {omega_m} [rad/s]')\n",
    "if n%2 == 0:\n",
    "    print(f'sigma_r\\t= {-R}')\n",
    "\n",
    "# função de transferência\n",
    "H = Hb(n,R)\n"
   ]
  },
  {
   "cell_type": "code",
   "execution_count": 9,
   "metadata": {},
   "outputs": [
    {
     "ename": "TypeError",
     "evalue": "must be real number, not TransferFunction",
     "output_type": "error",
     "traceback": [
      "\u001b[0;31m---------------------------------------------------------------------------\u001b[0m",
      "\u001b[0;31mTypeError\u001b[0m                                 Traceback (most recent call last)",
      "\u001b[0;32m/tmp/ipykernel_9031/1015716892.py\u001b[0m in \u001b[0;36m<cell line: 2>\u001b[0;34m()\u001b[0m\n\u001b[1;32m      1\u001b[0m \u001b[0ms\u001b[0m \u001b[0;34m=\u001b[0m \u001b[0mm\u001b[0m\u001b[0;34m.\u001b[0m\u001b[0mtf\u001b[0m\u001b[0;34m(\u001b[0m\u001b[0;34m's'\u001b[0m\u001b[0;34m)\u001b[0m\u001b[0;34m\u001b[0m\u001b[0;34m\u001b[0m\u001b[0m\n\u001b[0;32m----> 2\u001b[0;31m \u001b[0mprint\u001b[0m\u001b[0;34m(\u001b[0m\u001b[0mH\u001b[0m\u001b[0;34m(\u001b[0m\u001b[0ms\u001b[0m\u001b[0;34m/\u001b[0m\u001b[0;36m2\u001b[0m\u001b[0;34m)\u001b[0m\u001b[0;34m)\u001b[0m\u001b[0;34m\u001b[0m\u001b[0;34m\u001b[0m\u001b[0m\n\u001b[0m",
      "\u001b[0;32m~/.local/lib/python3.8/site-packages/control/xferfcn.py\u001b[0m in \u001b[0;36m__call__\u001b[0;34m(self, x, squeeze, warn_infinite)\u001b[0m\n\u001b[1;32m    361\u001b[0m \u001b[0;34m\u001b[0m\u001b[0m\n\u001b[1;32m    362\u001b[0m         \"\"\"\n\u001b[0;32m--> 363\u001b[0;31m         \u001b[0mout\u001b[0m \u001b[0;34m=\u001b[0m \u001b[0mself\u001b[0m\u001b[0;34m.\u001b[0m\u001b[0mhorner\u001b[0m\u001b[0;34m(\u001b[0m\u001b[0mx\u001b[0m\u001b[0;34m,\u001b[0m \u001b[0mwarn_infinite\u001b[0m\u001b[0;34m=\u001b[0m\u001b[0mwarn_infinite\u001b[0m\u001b[0;34m)\u001b[0m\u001b[0;34m\u001b[0m\u001b[0;34m\u001b[0m\u001b[0m\n\u001b[0m\u001b[1;32m    364\u001b[0m         \u001b[0;32mreturn\u001b[0m \u001b[0m_process_frequency_response\u001b[0m\u001b[0;34m(\u001b[0m\u001b[0mself\u001b[0m\u001b[0;34m,\u001b[0m \u001b[0mx\u001b[0m\u001b[0;34m,\u001b[0m \u001b[0mout\u001b[0m\u001b[0;34m,\u001b[0m \u001b[0msqueeze\u001b[0m\u001b[0;34m=\u001b[0m\u001b[0msqueeze\u001b[0m\u001b[0;34m)\u001b[0m\u001b[0;34m\u001b[0m\u001b[0;34m\u001b[0m\u001b[0m\n\u001b[1;32m    365\u001b[0m \u001b[0;34m\u001b[0m\u001b[0m\n",
      "\u001b[0;32m~/.local/lib/python3.8/site-packages/control/xferfcn.py\u001b[0m in \u001b[0;36mhorner\u001b[0;34m(self, x, warn_infinite)\u001b[0m\n\u001b[1;32m    386\u001b[0m         \"\"\"\n\u001b[1;32m    387\u001b[0m         \u001b[0;31m# Make sure the argument is a 1D array of complex numbers\u001b[0m\u001b[0;34m\u001b[0m\u001b[0;34m\u001b[0m\u001b[0;34m\u001b[0m\u001b[0m\n\u001b[0;32m--> 388\u001b[0;31m         \u001b[0mx_arr\u001b[0m \u001b[0;34m=\u001b[0m \u001b[0mnp\u001b[0m\u001b[0;34m.\u001b[0m\u001b[0matleast_1d\u001b[0m\u001b[0;34m(\u001b[0m\u001b[0mx\u001b[0m\u001b[0;34m)\u001b[0m\u001b[0;34m.\u001b[0m\u001b[0mastype\u001b[0m\u001b[0;34m(\u001b[0m\u001b[0mcomplex\u001b[0m\u001b[0;34m,\u001b[0m \u001b[0mcopy\u001b[0m\u001b[0;34m=\u001b[0m\u001b[0;32mFalse\u001b[0m\u001b[0;34m)\u001b[0m\u001b[0;34m\u001b[0m\u001b[0;34m\u001b[0m\u001b[0m\n\u001b[0m\u001b[1;32m    389\u001b[0m \u001b[0;34m\u001b[0m\u001b[0m\n\u001b[1;32m    390\u001b[0m         \u001b[0;31m# Make sure that we are operating on a simple list\u001b[0m\u001b[0;34m\u001b[0m\u001b[0;34m\u001b[0m\u001b[0;34m\u001b[0m\u001b[0m\n",
      "\u001b[0;31mTypeError\u001b[0m: must be real number, not TransferFunction"
     ]
    }
   ],
   "source": [
    "s = m.tf('s')\n",
    "print(H(s/2))"
   ]
  }
 ],
 "metadata": {
  "kernelspec": {
   "display_name": "Python 3.8.10 64-bit",
   "language": "python",
   "name": "python3"
  },
  "language_info": {
   "codemirror_mode": {
    "name": "ipython",
    "version": 3
   },
   "file_extension": ".py",
   "mimetype": "text/x-python",
   "name": "python",
   "nbconvert_exporter": "python",
   "pygments_lexer": "ipython3",
   "version": "3.8.10"
  },
  "orig_nbformat": 4,
  "vscode": {
   "interpreter": {
    "hash": "916dbcbb3f70747c44a77c7bcd40155683ae19c65e1c03b4aa3499c5328201f1"
   }
  }
 },
 "nbformat": 4,
 "nbformat_minor": 2
}
